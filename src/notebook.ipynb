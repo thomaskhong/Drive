{
 "cells": [
  {
   "cell_type": "markdown",
   "id": "08030bb9",
   "metadata": {},
   "source": [
    "Before running this notebook, make sure you've downloaded road curvature data and unzipped the KML file. See the README on how to do this!\n",
    "This notebook is designed to allow you to interrogate the data and see what is going on underneath the hood! I encourage you to plot and visualise the data at each stage of the calculations!"
   ]
  },
  {
   "cell_type": "markdown",
   "id": "a3362423",
   "metadata": {},
   "source": [
    "We first start by setting up our map data. We use a 'graph' to represent the map (i.e.: 'nodes' are road crossing, and every road is an 'edge'). The parse_data script defines this graph by downloading data for an area of a chosen size from your desired starting point. It also reads the KML file (which contains information about the road's windiness) and joins this onto the edge information - we will use this later to define what the best routes are.\n",
    "\n",
    "For example, let's assume we want to take a drive around the Peak District. We have driven to Parsley Hay car park and want to use this as our starting point. We define:\n",
    "- the starting (center_point) as coordinates. Use Google Maps to find this.\n",
    "- the size of the map region to download. As a rule of thumb, make this about half of the distance you'd look to drive. You can make this bigger but it will take longer to compute the graph!"
   ]
  },
  {
   "cell_type": "code",
   "execution_count": null,
   "id": "222e3624",
   "metadata": {},
   "outputs": [],
   "source": [
    "import parse_data\n",
    "\n",
    "center_point = (53.169910, -1.780962)\n",
    "dist_meters = 15000\n",
    "network_type = 'drive'\n",
    "kml_path = 'data/great-britain.c_300.kml'\n",
    "save_path = 'data/'\n",
    "\n",
    "nodes, edges = parse_data.fetch_roads(center_point, dist_meters, network_type) # this can take a couple of minutes depending on how dense the road network you're looking at is\n",
    "curvature_gdf = parse_data.parse_kml_curvature(kml_path)\n",
    "enriched_edges = parse_data.join_curvature(edges, curvature_gdf)\n",
    "parse_data.save_outputs(enriched_edges, nodes.copy(), save_path)"
   ]
  },
  {
   "cell_type": "markdown",
   "id": "939aa4b8",
   "metadata": {},
   "source": [
    "We now have a list of nodes and edges to compose the graph from in the pathfinder script. If you're curious, you can use the code below to visualise the resulting network of roads and the node and edge GeoDataframe."
   ]
  },
  {
   "cell_type": "code",
   "execution_count": null,
   "id": "c24b2885",
   "metadata": {},
   "outputs": [],
   "source": [
    "import osmnx as ox\n",
    "G = ox.graph_from_gdfs(nodes, edges)\n",
    "fig, ax = ox.plot_graph(G, node_size=5, edge_color='gray', edge_linewidth=0.5)\n",
    "\n",
    "print(nodes.head(5))\n",
    "print(edges.head(5))"
   ]
  },
  {
   "cell_type": "markdown",
   "id": "1475b690",
   "metadata": {},
   "source": [
    "Now that we have all our data ready, we can start planning our route!\n",
    "\n",
    "We first start by plotting finding our starting point and using a modified depth limited search algorithm to search find good candidates for the first half of our journey (the outbound part)."
   ]
  },
  {
   "cell_type": "code",
   "execution_count": null,
   "id": "98d8ba18",
   "metadata": {},
   "outputs": [],
   "source": [
    "import path_finder\n",
    "\n",
    "target_distance = 30000\n",
    "start_lat = center_point[0]\n",
    "start_lon = center_point[1]\n",
    "output = 'data/output/'\n",
    "\n",
    "start_node = ox.nearest_nodes(G, start_lon, start_lat)\n",
    "\n",
    "outbound_paths = path_finder.calculate_outbound_paths(G, start_node, target_distance=(target_distance)/2, max_paths=1500, max_depth=30)\n",
    "print('   ', {len(outbound_paths)}, 'paths found')\n"
   ]
  },
  {
   "cell_type": "markdown",
   "id": "8cdf6e1c",
   "metadata": {},
   "source": [
    "We can now score each path. The scoring method is based on several factors:\n",
    "- how windy the route is\n",
    "- the average speed limit along the route\n",
    "- the number of unique roads used\n",
    "These scores are normalised (such that a road can have a windiness score from 0-1 for example), and a factor of 2 is applied to the windiness score (as this is the factor we care most about)\n",
    "The result is an overall score that can vary between -1 and 4."
   ]
  },
  {
   "cell_type": "code",
   "execution_count": null,
   "id": "3f4f987b",
   "metadata": {},
   "outputs": [],
   "source": [
    "print('>> Scoring outbound paths...')\n",
    "outbound_paths = path_finder.calculate_scores(G, outbound_paths, start_lon, start_lat, nodes=nodes)"
   ]
  },
  {
   "cell_type": "markdown",
   "id": "d2ab5e97",
   "metadata": {},
   "source": [
    "At this point, we have a lot of routes that are very similar (this is a biproduct of the depth limited search algorithm). We will need to reduce the number of possible paths because we wouldn't want to calculate the return routes for all of them (this would take ages). This would also be quite wasteful as if the outbound routes are similar, the return routes will also be similar.\n",
    "If routes are more than 50% similar (i.e.: half of the roads used for a route are the same as another's), we remove these and only keep the route with the highest score."
   ]
  },
  {
   "cell_type": "code",
   "execution_count": null,
   "id": "3c64dc93",
   "metadata": {},
   "outputs": [],
   "source": [
    "print('>> Removing similar paths...')\n",
    "filtered_outbound_paths = path_finder.remove_similar_paths(outbound_paths, similarity_threshold=0.5)"
   ]
  },
  {
   "cell_type": "markdown",
   "id": "3f52ede0",
   "metadata": {},
   "source": [
    "Now that we have a more manageable number of routes to consider, we want to cluster them into groups based on the bearing they are relative to the starting point. This may seem odd at first, but we do this to ensure that we have a good variety of route choice available to us. If the main goal is to explore the area, we wouldn't want to limit ourselves to one direction only, even if that has all the best roads!\n",
    "\n",
    "To do this, we take the 'centroid' for each route (i.e.: just the average of all the node coordinates) and calculate the bearing of this relative to the start point. Then, we use KMeans clustering to group the routes and select the 5 best routes from each group. This will loosely equate to the best routes in each of the 4 cardinal directions."
   ]
  },
  {
   "cell_type": "code",
   "execution_count": null,
   "id": "eabb4ecb",
   "metadata": {},
   "outputs": [],
   "source": [
    "print('>> Clustering results and selecting best outbound options...')\n",
    "clustered_outbound_paths = path_finder.cluster_paths(filtered_outbound_paths, n_clusters=4)\n",
    "best_outbound_paths = path_finder.select_top_paths_by_cluster(clustered_outbound_paths, top_n=5)\n"
   ]
  },
  {
   "cell_type": "markdown",
   "id": "e477ff7e",
   "metadata": {},
   "source": [
    "A cool plot that can show what is happening here is shown below:"
   ]
  },
  {
   "cell_type": "code",
   "execution_count": null,
   "id": "8ea3e2b2",
   "metadata": {},
   "outputs": [],
   "source": [
    "import matplotlib.pyplot as plt\n",
    "def polar_plot(bearing_vector, score_vector, colour_key):\n",
    "    label_to_color = {\n",
    "    0: 'red',\n",
    "    1: 'blue',\n",
    "    2: 'green',\n",
    "    3: 'orange'\n",
    "    }\n",
    "    colors = [label_to_color[label] for label in colour_key]\n",
    "\n",
    "    # Create polar plot using scatter\n",
    "    fig, ax = plt.subplots(subplot_kw={'projection': 'polar'})\n",
    "    ax.scatter(bearing_vector, score_vector, c=colors)\n",
    "\n",
    "    plt.show()\n",
    "\n",
    "polar_plot(best_outbound_paths['bearing'].to_list(), best_outbound_paths['score'].to_list(), best_outbound_paths['labels'].to_list())"
   ]
  },
  {
   "cell_type": "markdown",
   "id": "e39937d7",
   "metadata": {},
   "source": [
    "With the best outbound routes chosen, we can start finding our way back to the start point. We will do this still by prioritising windy roads, and also try to avoid doubling back on ourselves and using the same roads we used to come out.\n",
    "Once this done we can recalculate all the scores and take the 5 best routes out of all the options!"
   ]
  },
  {
   "cell_type": "code",
   "execution_count": null,
   "id": "cafc1968",
   "metadata": {},
   "outputs": [],
   "source": [
    "print('>> Plotting return journeys for best outbound path candidates...')\n",
    "completed_paths = path_finder.create_full_loops(G, best_outbound_paths, start_node)\n",
    "print('>> Calculating full journey scores and saving best options...')\n",
    "completed_paths = path_finder.calculate_scores(G, completed_paths['path_nodes'].to_list(), start_lon, start_lat, nodes=nodes)\n",
    "proposed_paths = completed_paths.sort_values(by='score', ascending=False).head(5)\n",
    "path_finder.plot_outputs(G, proposed_paths, start_lat, start_lon, output)\n",
    "path_finder.save_output(proposed_paths, output)\n",
    "print('>> Results complete. View map in the results.html, and see route metrics in results.csv files. These have been saved to the output directory of your choice.')\n"
   ]
  }
 ],
 "metadata": {
  "kernelspec": {
   "display_name": "venv",
   "language": "python",
   "name": "python3"
  },
  "language_info": {
   "codemirror_mode": {
    "name": "ipython",
    "version": 3
   },
   "file_extension": ".py",
   "mimetype": "text/x-python",
   "name": "python",
   "nbconvert_exporter": "python",
   "pygments_lexer": "ipython3",
   "version": "3.12.10"
  }
 },
 "nbformat": 4,
 "nbformat_minor": 5
}
