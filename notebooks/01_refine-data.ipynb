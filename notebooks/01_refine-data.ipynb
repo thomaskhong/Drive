{
 "cells": [
  {
   "cell_type": "code",
   "execution_count": 1,
   "id": "a1ecfe56",
   "metadata": {},
   "outputs": [
    {
     "name": "stderr",
     "output_type": "stream",
     "text": [
      "c:\\Users\\khong\\Documents\\Python Projects\\Drive\\Drive\\venv\\Lib\\site-packages\\fastkml\\config.py:39: UserWarning: Package `lxml` missing. Pretty print will be disabled\n",
      "  warnings.warn(\"Package `lxml` missing. Pretty print will be disabled\")  # noqa: B028\n"
     ]
    }
   ],
   "source": [
    "import osmnx as ox\n",
    "import geopandas as gpd\n",
    "from fastkml import kml\n",
    "from shapely.geometry import shape\n",
    "import pandas as pd\n",
    "import warnings\n"
   ]
  },
  {
   "cell_type": "code",
   "execution_count": 2,
   "id": "14ae000e",
   "metadata": {},
   "outputs": [],
   "source": [
    "def fetch_roads(place_name, network_type='drive'):\n",
    "    print(f\"Fetching road network for: {place_name}\")\n",
    "    G = ox.graph_from_place(place_name, network_type=network_type)\n",
    "    nodes, edges = ox.graph_to_gdfs(G, nodes=True, edges=True)\n",
    "    edges = edges.to_crs(\"EPSG:4326\")\n",
    "    nodes = nodes.to_crs(\"EPSG:4326\")\n",
    "    return nodes, edges\n",
    "\n",
    "def parse_kml_curvature(kml_path):\n",
    "    print(f\"Parsing curvature data from: {kml_path}\")\n",
    "    curvature_gdf = gpd.read_file(kml_path, driver='KML')\n",
    "    curvature_gdf['curvature'] = [int(float(x[37:42])) for x in curvature_gdf[\"Description\"]]\n",
    "    return curvature_gdf\n",
    "\n",
    "def join_curvature(edges, curvature_gdf):\n",
    "    print(\"Joining curvature data to edges...\")\n",
    "    edges_with_curviness = gpd.sjoin_nearest(\n",
    "        edges,\n",
    "        curvature_gdf[['geometry', 'curvature']],\n",
    "        how=\"left\",\n",
    "        max_distance=0.0005,  # ~50 meters\n",
    "        distance_col=\"join_dist\"\n",
    "    )\n",
    "    edges_with_curviness['curvature'] = edges_with_curviness['curvature'].fillna(0)\n",
    "    edges_with_curviness.drop(columns=['join_dist', 'index_right'], inplace=True)\n",
    "    return edges_with_curviness\n",
    "\n",
    "def save_outputs(edges, nodes, save_path, output_prefix=\"roads_with_curvature\"):\n",
    "    print(f\"Saving data to {output_prefix}.csv and .geojson\")\n",
    "    edges.to_csv(f\"{save_path}{output_prefix}.csv\", index=False)\n",
    "    edges.to_file(f\"{save_path}edges_{output_prefix}.gpkg\", layer='edges', driver='GPKG')\n",
    "    nodes.to_file(f\"{save_path}nodes_{output_prefix}.gpkg\", layer='nodes', driver='GPKG')\n",
    "\n"
   ]
  },
  {
   "cell_type": "code",
   "execution_count": 5,
   "id": "f171a0ad",
   "metadata": {},
   "outputs": [
    {
     "name": "stdout",
     "output_type": "stream",
     "text": [
      "Fetching road network for: Peak District\n"
     ]
    }
   ],
   "source": [
    "\n",
    "place = \"Peak District\"  # 🔁 Change this as needed\n",
    "kml_path = \"data/great-britain.c_300.kml\"               # 🔁 Replace with your file\n",
    "save_path = \"data/\"\n",
    "\n",
    "nodes, edges = fetch_roads(place)\n"
   ]
  },
  {
   "cell_type": "code",
   "execution_count": 10,
   "id": "809a9030",
   "metadata": {},
   "outputs": [
    {
     "name": "stderr",
     "output_type": "stream",
     "text": [
      "<>:1: SyntaxWarning: invalid escape sequence '\\k'\n",
      "<>:1: SyntaxWarning: invalid escape sequence '\\k'\n",
      "C:\\Users\\khong\\AppData\\Local\\Temp\\ipykernel_14048\\1674978136.py:1: SyntaxWarning: invalid escape sequence '\\k'\n",
      "  curvature_gdf = parse_kml_curvature(\"C:\\\\Users\\khong\\Documents\\Python Projects\\Drive\\Drive\\data\\great-britain.c_300.kml\")\n"
     ]
    },
    {
     "name": "stdout",
     "output_type": "stream",
     "text": [
      "Parsing curvature data from: C:\\Users\\khong\\Documents\\Python Projects\\Drive\\Drive\\data\\great-britain.c_300.kml\n"
     ]
    }
   ],
   "source": [
    "curvature_gdf = parse_kml_curvature(\"C:\\\\Users\\khong\\Documents\\Python Projects\\Drive\\Drive\\data\\great-britain.c_300.kml\")\n"
   ]
  },
  {
   "cell_type": "code",
   "execution_count": null,
   "id": "99a3c473",
   "metadata": {},
   "outputs": [
    {
     "name": "stdout",
     "output_type": "stream",
     "text": [
      "Joining curvature data to edges...\n"
     ]
    },
    {
     "name": "stderr",
     "output_type": "stream",
     "text": [
      "c:\\Users\\khong\\Documents\\Python Projects\\Drive\\Drive\\venv\\Lib\\site-packages\\geopandas\\array.py:403: UserWarning: Geometry is in a geographic CRS. Results from 'sjoin_nearest' are likely incorrect. Use 'GeoSeries.to_crs()' to re-project geometries to a projected CRS before this operation.\n",
      "\n",
      "  warnings.warn(\n"
     ]
    }
   ],
   "source": [
    "enriched_edges = join_curvature(edges, curvature_gdf)\n"
   ]
  },
  {
   "cell_type": "code",
   "execution_count": 46,
   "id": "95d3c699",
   "metadata": {},
   "outputs": [
    {
     "name": "stdout",
     "output_type": "stream",
     "text": [
      "5367\n",
      "6033\n"
     ]
    }
   ],
   "source": [
    "print(len(edges))\n",
    "print(len(enriched_edges))"
   ]
  },
  {
   "cell_type": "code",
   "execution_count": 18,
   "id": "6a11e771",
   "metadata": {},
   "outputs": [
    {
     "ename": "ValueError",
     "evalue": "`gdf_nodes` and `gdf_edges` must each be uniquely indexed.",
     "output_type": "error",
     "traceback": [
      "\u001b[31m---------------------------------------------------------------------------\u001b[39m",
      "\u001b[31mValueError\u001b[39m                                Traceback (most recent call last)",
      "\u001b[36mCell\u001b[39m\u001b[36m \u001b[39m\u001b[32mIn[18]\u001b[39m\u001b[32m, line 2\u001b[39m\n\u001b[32m      1\u001b[39m G = ox.graph_from_gdfs(nodes, edges)\n\u001b[32m----> \u001b[39m\u001b[32m2\u001b[39m G = \u001b[43mox\u001b[49m\u001b[43m.\u001b[49m\u001b[43mgraph_from_gdfs\u001b[49m\u001b[43m(\u001b[49m\u001b[43mnodes\u001b[49m\u001b[43m,\u001b[49m\u001b[43m \u001b[49m\u001b[43menriched_edges\u001b[49m\u001b[43m)\u001b[49m\n",
      "\u001b[36mFile \u001b[39m\u001b[32mc:\\Users\\khong\\Documents\\Python Projects\\Drive\\Drive\\venv\\Lib\\site-packages\\osmnx\\convert.py:302\u001b[39m, in \u001b[36mgraph_from_gdfs\u001b[39m\u001b[34m(gdf_nodes, gdf_edges, graph_attrs)\u001b[39m\n\u001b[32m    265\u001b[39m \u001b[38;5;28;01mdef\u001b[39;00m\u001b[38;5;250m \u001b[39m\u001b[34mgraph_from_gdfs\u001b[39m(\n\u001b[32m    266\u001b[39m     gdf_nodes: gpd.GeoDataFrame,\n\u001b[32m    267\u001b[39m     gdf_edges: gpd.GeoDataFrame,\n\u001b[32m    268\u001b[39m     *,\n\u001b[32m    269\u001b[39m     graph_attrs: \u001b[38;5;28mdict\u001b[39m[\u001b[38;5;28mstr\u001b[39m, Any] | \u001b[38;5;28;01mNone\u001b[39;00m = \u001b[38;5;28;01mNone\u001b[39;00m,\n\u001b[32m    270\u001b[39m ) -> nx.MultiDiGraph:\n\u001b[32m    271\u001b[39m \u001b[38;5;250m    \u001b[39m\u001b[33;03m\"\"\"\u001b[39;00m\n\u001b[32m    272\u001b[39m \u001b[33;03m    Convert node and edge GeoDataFrames to a MultiDiGraph.\u001b[39;00m\n\u001b[32m    273\u001b[39m \n\u001b[32m   (...)\u001b[39m\u001b[32m    300\u001b[39m \u001b[33;03m        The converted MultiDiGraph.\u001b[39;00m\n\u001b[32m    301\u001b[39m \u001b[33;03m    \"\"\"\u001b[39;00m\n\u001b[32m--> \u001b[39m\u001b[32m302\u001b[39m     \u001b[43m_validate_node_edge_gdfs\u001b[49m\u001b[43m(\u001b[49m\u001b[43mgdf_nodes\u001b[49m\u001b[43m,\u001b[49m\u001b[43m \u001b[49m\u001b[43mgdf_edges\u001b[49m\u001b[43m)\u001b[49m\n\u001b[32m    304\u001b[39m     \u001b[38;5;66;03m# drop geometry column from gdf_nodes (since we use x and y for geometry\u001b[39;00m\n\u001b[32m    305\u001b[39m     \u001b[38;5;66;03m# information), but warn the user if the geometry values differ from the\u001b[39;00m\n\u001b[32m    306\u001b[39m     \u001b[38;5;66;03m# coordinates in the x and y columns. this results in a df instead of gdf.\u001b[39;00m\n\u001b[32m    307\u001b[39m     \u001b[38;5;28;01mif\u001b[39;00m gdf_nodes.active_geometry_name \u001b[38;5;129;01mis\u001b[39;00m \u001b[38;5;28;01mNone\u001b[39;00m:  \u001b[38;5;66;03m# pragma: no cover\u001b[39;00m\n",
      "\u001b[36mFile \u001b[39m\u001b[32mc:\\Users\\khong\\Documents\\Python Projects\\Drive\\Drive\\venv\\Lib\\site-packages\\osmnx\\convert.py:235\u001b[39m, in \u001b[36m_validate_node_edge_gdfs\u001b[39m\u001b[34m(gdf_nodes, gdf_edges)\u001b[39m\n\u001b[32m    233\u001b[39m \u001b[38;5;28;01mif\u001b[39;00m \u001b[38;5;129;01mnot\u001b[39;00m (gdf_nodes.index.is_unique \u001b[38;5;129;01mand\u001b[39;00m gdf_edges.index.is_unique):  \u001b[38;5;66;03m# pragma: no cover\u001b[39;00m\n\u001b[32m    234\u001b[39m     msg = \u001b[33m\"\u001b[39m\u001b[33m`gdf_nodes` and `gdf_edges` must each be uniquely indexed.\u001b[39m\u001b[33m\"\u001b[39m\n\u001b[32m--> \u001b[39m\u001b[32m235\u001b[39m     \u001b[38;5;28;01mraise\u001b[39;00m \u001b[38;5;167;01mValueError\u001b[39;00m(msg)\n\u001b[32m    237\u001b[39m \u001b[38;5;66;03m# ensure 1) gdf_edges are multi-indexed with 3 levels and 2) that its u\u001b[39;00m\n\u001b[32m    238\u001b[39m \u001b[38;5;66;03m# and v values (first two index levels) all appear among gdf_nodes index\u001b[39;00m\n\u001b[32m    239\u001b[39m edges_index_levels = \u001b[32m3\u001b[39m\n",
      "\u001b[31mValueError\u001b[39m: `gdf_nodes` and `gdf_edges` must each be uniquely indexed."
     ]
    }
   ],
   "source": [
    "G = ox.graph_from_gdfs(nodes, edges)\n",
    "G = ox.graph_from_gdfs(nodes, enriched_edges)"
   ]
  },
  {
   "cell_type": "code",
   "execution_count": null,
   "id": "1181d7e5",
   "metadata": {},
   "outputs": [],
   "source": [
    "\n",
    "save_outputs(enriched_edges, nodes, save_path)"
   ]
  }
 ],
 "metadata": {
  "kernelspec": {
   "display_name": "venv",
   "language": "python",
   "name": "python3"
  },
  "language_info": {
   "codemirror_mode": {
    "name": "ipython",
    "version": 3
   },
   "file_extension": ".py",
   "mimetype": "text/x-python",
   "name": "python",
   "nbconvert_exporter": "python",
   "pygments_lexer": "ipython3",
   "version": "3.12.10"
  }
 },
 "nbformat": 4,
 "nbformat_minor": 5
}
